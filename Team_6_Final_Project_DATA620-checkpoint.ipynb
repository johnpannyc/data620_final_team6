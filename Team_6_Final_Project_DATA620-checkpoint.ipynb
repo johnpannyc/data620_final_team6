{
 "cells": [
  {
   "cell_type": "code",
   "execution_count": 4,
   "metadata": {},
   "outputs": [],
   "source": [
    "import networkx as nx\n",
    "import matplotlib.pyplot as plt\n",
    "import pandas as pd\n",
    "import json\n",
    "from twython import Twython\n",
    "import time"
   ]
  },
  {
   "cell_type": "markdown",
   "metadata": {},
   "source": [
    "Code below has scraped *all* of Mike Gravel's followers for June 21, 2019"
   ]
  },
  {
   "cell_type": "code",
   "execution_count": 5,
   "metadata": {},
   "outputs": [],
   "source": [
    "# Code below adapated from: https://stackabuse.com/accessing-the-twitter-api-with-python/\n",
    "# Load Twitter API credentials from json file\n",
    "with open(\"twitter_credentials.json\", \"r\") as file:  \n",
    "    creds = json.load(file)\n",
    "\n",
    "# Instantiate an object and provide Twitter credentials\n",
    "twitter = Twython(creds['CONSUMER_KEY'], creds['CONSUMER_SECRET_KEY'], creds['ACCESS_TOKEN'], creds['ACCESS_SECRET_TOKEN'])"
   ]
  },
  {
   "cell_type": "code",
   "execution_count": 6,
   "metadata": {},
   "outputs": [],
   "source": [
    "def get_followers_json(username):\n",
    "    # create empty dictionary to accept data\n",
    "    dict_fol = {'screen_name': [], 'verified': [], 'location': [], 'followers_count': [], 'tweet_text': [], 'retweet_count': [], 'favorite_count': []}  \n",
    "\n",
    "    # we don't want to dump directly to the graph because we'll get a giant hairball\n",
    "    # we will want to filter for users with more followers before moving to depth=2 of the social network\n",
    "    #create loop to page through API results without hitting rate limit\n",
    "    next_cursor = -1\n",
    "    timeout = time.time() + 60*60*12 #creates a hard end time for the script to run (12 hrs)\n",
    "    while(next_cursor):\n",
    "        if time.time() > timeout: \n",
    "            break #ends loop after timeout period\n",
    "        get_followers = twitter.get_followers_list(screen_name='mikegravel', count = 200, cursor=next_cursor)\n",
    "        for user in get_followers['users']:  \n",
    "            dict_fol['screen_name'].append(user['screen_name'])\n",
    "            dict_fol['verified'].append(user['verified'])\n",
    "            dict_fol['followers_count'].append(user['followers_count'])\n",
    "            \n",
    "            try:\n",
    "                dict_fol['location'].append(user['location'])\n",
    "            except:\n",
    "                dict_fol['location'].append(None) #many users leave this blank\n",
    "            \n",
    "            try:\n",
    "                dict_fol['tweet_text'].append(user['status']['text'])\n",
    "            except:\n",
    "                dict_fol['tweet_text'].append(None) #a good number of users have no tweets!\n",
    "            \n",
    "            try:\n",
    "                dict_fol['retweet_count'].append(user['status']['retweet_count'])\n",
    "            except:\n",
    "                dict_fol['retweet_count'].append(None)\n",
    "            \n",
    "            try:\n",
    "                dict_fol['favorite_count'].append(user['status']['favorite_count']) \n",
    "            except:\n",
    "                dict_fol['favorite_count'].append(None)\n",
    "                \n",
    "        try: \n",
    "            time.sleep(65)\n",
    "            next_cursor = get_followers[\"next_cursor\"]\n",
    "            print(\"Getting more of %s's followers' tweets\" % username)\n",
    "            print (time.asctime())\n",
    "        except:\n",
    "            break\n",
    "  \n",
    "\n",
    "    filename=username + str(time.time()) + \"_followers.json\"\n",
    "    \n",
    "    with open(filename, \"w\") as file:\n",
    "        json.dump(dict_fol, file)\n",
    "        \n",
    "    print(\"Saving %s's followers to JSON file\" % username)\n",
    "    print (time.asctime())\n",
    "    return get_followers"
   ]
  },
  {
   "cell_type": "code",
   "execution_count": 7,
   "metadata": {},
   "outputs": [
    {
     "name": "stdout",
     "output_type": "stream",
     "text": [
      "Getting more of mikegravel's followers' tweets\n",
      "Fri Jul  5 21:43:51 2019\n",
      "Saving mikegravel's followers to JSON file\n",
      "Fri Jul  5 21:43:51 2019\n"
     ]
    }
   ],
   "source": [
    "get_followers = get_followers_json('mikegravel')"
   ]
  },
  {
   "cell_type": "code",
   "execution_count": 8,
   "metadata": {},
   "outputs": [],
   "source": [
    "with open('mikegravel1561157054.0137448_followers.json') as file:\n",
    "    mgfol2 = json.load(file)"
   ]
  },
  {
   "cell_type": "code",
   "execution_count": 9,
   "metadata": {},
   "outputs": [],
   "source": [
    "df = pd.DataFrame.from_dict(mgfol2)\n",
    "df = df.sort_values(by='followers_count', ascending=False)"
   ]
  },
  {
   "cell_type": "code",
   "execution_count": 11,
   "metadata": {},
   "outputs": [
    {
     "data": {
      "text/plain": [
       "dict_keys(['screen_name', 'verified', 'location', 'followers_count', 'tweet_text', 'retweet_count', 'favorite_count'])"
      ]
     },
     "execution_count": 11,
     "metadata": {},
     "output_type": "execute_result"
    }
   ],
   "source": [
    "mgfol2.keys()"
   ]
  },
  {
   "cell_type": "code",
   "execution_count": 12,
   "metadata": {},
   "outputs": [
    {
     "data": {
      "text/plain": [
       "98266"
      ]
     },
     "execution_count": 12,
     "metadata": {},
     "output_type": "execute_result"
    }
   ],
   "source": [
    "len(df)"
   ]
  },
  {
   "cell_type": "code",
   "execution_count": 13,
   "metadata": {},
   "outputs": [],
   "source": [
    "followers_to_get = df['screen_name'][0:19]"
   ]
  },
  {
   "cell_type": "code",
   "execution_count": 14,
   "metadata": {},
   "outputs": [
    {
     "name": "stdout",
     "output_type": "stream",
     "text": [
      "95977             maddow\n",
      "95338          wikileaks\n",
      "9849                 AOC\n",
      "86051      NateSilver538\n",
      "22595        HEELZiggler\n",
      "66225           verified\n",
      "23606      marwilliamson\n",
      "95126         jaketapper\n",
      "16955      AlaattinCAGIL\n",
      "22259         johncusack\n",
      "58768         robdelaney\n",
      "47585       YourAnonNews\n",
      "97936        HuffPostPol\n",
      "845       Funnyoneliners\n",
      "69178          shaunking\n",
      "24154            IlhanMN\n",
      "96435    sherylunderwood\n",
      "82938         tweetsauce\n",
      "6393        NOH8Campaign\n",
      "Name: screen_name, dtype: object\n"
     ]
    }
   ],
   "source": [
    "print(followers_to_get)"
   ]
  },
  {
   "cell_type": "code",
   "execution_count": null,
   "metadata": {},
   "outputs": [],
   "source": []
  }
 ],
 "metadata": {
  "kernelspec": {
   "display_name": "Python 3",
   "language": "python",
   "name": "python3"
  }
 },
 "nbformat": 4,
 "nbformat_minor": 2
}
